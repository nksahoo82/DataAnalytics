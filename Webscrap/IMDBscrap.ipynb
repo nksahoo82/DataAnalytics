{
 "cells": [
  {
   "cell_type": "code",
   "execution_count": 1,
   "metadata": {},
   "outputs": [],
   "source": [
    "from urllib.request import urlopen as uReq\n",
    "from bs4 import BeautifulSoup as bs\n",
    "import csv\n",
    "import os\n",
    "import sys\n",
    "from requests import get"
   ]
  },
  {
   "cell_type": "code",
   "execution_count": 2,
   "metadata": {},
   "outputs": [],
   "source": [
    "# Taking the URL into a variable\n",
    "imdb_url = \"http://www.imdb.com/search/title?release_date=2017,&page=1&ref_=adv_prv\"\n",
    "\n",
    "# Request URL Open and taking contents into a Variable\n",
    "IMDB_data = uReq(imdb_url)"
   ]
  },
  {
   "cell_type": "code",
   "execution_count": 3,
   "metadata": {},
   "outputs": [],
   "source": [
    "type(IMDB_data);"
   ]
  },
  {
   "cell_type": "code",
   "execution_count": 4,
   "metadata": {},
   "outputs": [],
   "source": [
    "# Read The Data from HTTPResponse object\n",
    "\n",
    "imdb_html = IMDB_data.read()"
   ]
  },
  {
   "cell_type": "code",
   "execution_count": 5,
   "metadata": {},
   "outputs": [],
   "source": [
    "# Close the URL Open connection\n",
    "IMDB_data.close()"
   ]
  },
  {
   "cell_type": "code",
   "execution_count": 6,
   "metadata": {},
   "outputs": [],
   "source": [
    "# Displaying the contents after reading\n",
    "type(imdb_html)\n",
    "imdb_html;"
   ]
  },
  {
   "cell_type": "code",
   "execution_count": 7,
   "metadata": {},
   "outputs": [],
   "source": [
    "# We need to parse the byte strem into proper html format using beautiful soup\n",
    "\n",
    "page_soup = bs(imdb_html, 'html.parser')"
   ]
  },
  {
   "cell_type": "code",
   "execution_count": 8,
   "metadata": {},
   "outputs": [],
   "source": [
    "type(page_soup);"
   ]
  },
  {
   "cell_type": "code",
   "execution_count": 9,
   "metadata": {},
   "outputs": [],
   "source": [
    "# Displaying contents after properly formated into html using Beautiful soup\n",
    "page_soup;\n",
    "page_soup.prettify;"
   ]
  },
  {
   "cell_type": "code",
   "execution_count": 10,
   "metadata": {},
   "outputs": [],
   "source": [
    "# Take all the bytes of stream into a containers\n",
    "containers = page_soup.find_all('div', {'class' : \"lister-item-content\"})"
   ]
  },
  {
   "cell_type": "code",
   "execution_count": 11,
   "metadata": {},
   "outputs": [
    {
     "data": {
      "text/plain": [
       "bs4.element.ResultSet"
      ]
     },
     "execution_count": 11,
     "metadata": {},
     "output_type": "execute_result"
    }
   ],
   "source": [
    "type(containers)"
   ]
  },
  {
   "cell_type": "code",
   "execution_count": 12,
   "metadata": {},
   "outputs": [
    {
     "data": {
      "text/plain": [
       "50"
      ]
     },
     "execution_count": 12,
     "metadata": {},
     "output_type": "execute_result"
    }
   ],
   "source": [
    "# Checking the whole contents of container\n",
    "containers;\n",
    "len(containers)"
   ]
  },
  {
   "cell_type": "code",
   "execution_count": 13,
   "metadata": {},
   "outputs": [],
   "source": [
    "# Checking the nth item set from resultset\n",
    "nth_imdb = containers[6]"
   ]
  },
  {
   "cell_type": "code",
   "execution_count": 14,
   "metadata": {},
   "outputs": [
    {
     "data": {
      "text/plain": [
       "'Pitch Perfect 3'"
      ]
     },
     "execution_count": 14,
     "metadata": {},
     "output_type": "execute_result"
    }
   ],
   "source": [
    "# Pull one-by-one record for nth Movie \n",
    "# Pickup the Movie Title\n",
    "nth_imdb.a.text"
   ]
  },
  {
   "cell_type": "code",
   "execution_count": 15,
   "metadata": {},
   "outputs": [
    {
     "data": {
      "text/plain": [
       "'(2017)'"
      ]
     },
     "execution_count": 15,
     "metadata": {},
     "output_type": "execute_result"
    }
   ],
   "source": [
    "# Pickup Release date for 1st Movie\n",
    "nth_imdb.h3.find('span', class_ ='lister-item-year').text"
   ]
  },
  {
   "cell_type": "code",
   "execution_count": 16,
   "metadata": {},
   "outputs": [
    {
     "data": {
      "text/plain": [
       "'93 min'"
      ]
     },
     "execution_count": 16,
     "metadata": {},
     "output_type": "execute_result"
    }
   ],
   "source": [
    "# Pull the Movie runtime Duration\n",
    "nth_imdb.find('span', {'class' : 'runtime'}).text"
   ]
  },
  {
   "cell_type": "code",
   "execution_count": 17,
   "metadata": {},
   "outputs": [
    {
     "data": {
      "text/plain": [
       "'Comedy| Music'"
      ]
     },
     "execution_count": 17,
     "metadata": {},
     "output_type": "execute_result"
    }
   ],
   "source": [
    "# pull the genres of the movie\n",
    "nth_imdb.find('span', {'class' : 'genre'}).text.replace('\\n', '').replace(',', '|').strip()"
   ]
  },
  {
   "cell_type": "code",
   "execution_count": 18,
   "metadata": {},
   "outputs": [
    {
     "data": {
      "text/plain": [
       "'6.3'"
      ]
     },
     "execution_count": 18,
     "metadata": {},
     "output_type": "execute_result"
    }
   ],
   "source": [
    "# Pull the rate of this Movie\n",
    "nth_imdb.strong.text"
   ]
  },
  {
   "cell_type": "code",
   "execution_count": 19,
   "metadata": {},
   "outputs": [
    {
     "data": {
      "text/plain": [
       "'40'"
      ]
     },
     "execution_count": 19,
     "metadata": {},
     "output_type": "execute_result"
    }
   ],
   "source": [
    "# Pull the MetaScore of the Movie\n",
    "nth_imdb.find('span', class_ ='metascore').text.strip()"
   ]
  },
  {
   "cell_type": "code",
   "execution_count": 20,
   "metadata": {},
   "outputs": [
    {
     "data": {
      "text/plain": [
       "'8634'"
      ]
     },
     "execution_count": 20,
     "metadata": {},
     "output_type": "execute_result"
    }
   ],
   "source": [
    "# Pull the No of votes of this movie\n",
    "nth_imdb.find('span', {'name' : 'nv'}).text.replace(',', '')"
   ]
  },
  {
   "cell_type": "code",
   "execution_count": 21,
   "metadata": {},
   "outputs": [
    {
     "name": "stdout",
     "output_type": "stream",
     "text": [
      "Jumanji: Welcome to the Jungle 2017 119 min Action| Adventure| Comedy 7.2 58 43697\n",
      "Star Wars: Episode VIII - The Last Jedi 2017 152 min Action| Adventure| Fantasy 7.5 85 279678\n",
      "The Greatest Showman 2017 105 min Biography| Drama| Musical 8.0 48 37632\n",
      "Bright I 2017 117 min Action| Crime| Fantasy 6.5 29 87927\n",
      "Blade Runner 2049 2017 164 min Drama| Mystery| Sci-Fi 8.3 81 200763\n",
      "The Shape of Water 2017 123 min Adventure| Drama| Fantasy 8.1 86 18676\n",
      "Pitch Perfect 3 2017 93 min Comedy| Music 6.3 40 8634\n",
      "Justice League 2017 120 min Action| Adventure| Fantasy 7.0 45 168748\n",
      "Molly's Game 2017 140 min Biography| Drama 7.7 71 10790\n",
      "Dunkirk 2017 106 min Action| Drama| History 8.1 94 311180\n",
      "Coco I 2017 105 min Animation| Adventure| Comedy 8.7 81 57689\n",
      "Thor: Ragnarok 2017 130 min Action| Adventure| Comedy 8.1 74 184064\n",
      "It I 2017 135 min Drama| Horror| Thriller 7.6 69 221189\n",
      "The Disaster Artist 2017 104 min Biography| Comedy| Drama 7.9 76 29051\n",
      "Three Billboards Outside Ebbing Missouri 2017 115 min Crime| Drama 8.3 88 32252\n",
      "Insidious: The Last Key 2018 103 min Horror| Mystery| Thriller 6.0 48 4563\n",
      "Call Me by Your Name 2017 132 min Drama| Romance 8.4 93 22762\n",
      "I Tonya 2017 120 min Biography| Comedy| Drama 7.7 77 11587\n",
      "Downsizing 2017 135 min Comedy| Drama| Sci-Fi 5.8 63 8142\n",
      "All the Money in the World 2017 132 min Biography| Crime| Drama 7.1 73 6903\n",
      "Lady Bird 2017 94 min Comedy| Drama 8.0 94 26490\n",
      "Darkest Hour 2017 125 min Biography| Drama| History 7.3 75 8415\n",
      "Kingsman: The Golden Circle 2017 141 min Action| Adventure| Comedy 6.9 44 134619\n",
      "Get Out I 2017 104 min Horror| Mystery| Thriller 7.7 84 226635\n",
      "Ferdinand 2017 108 min Animation| Adventure| Comedy 6.8 58 5601\n",
      "The Foreigner 2017 113 min Action| Crime| Drama 7.1 55 37218\n",
      "Mother! 2017 121 min Drama| Horror| Mystery 6.8 75 83890\n",
      "The Post 2017 116 min Biography| Drama| History 6.9 83 2188\n",
      "Hostiles 2017 134 min Adventure| Drama| Western 7.2 65 2048\n",
      "Wonder I 2017 113 min Drama| Family 8.1 66 21119\n",
      "Guardians of the Galaxy Vol. 2 2017 136 min Action| Adventure| Sci-Fi 7.8 67 323596\n",
      "American Made 2017 115 min Action| Biography| Comedy 7.2 65 69177\n",
      "The Mountain Between Us 2017 112 min Action| Adventure| Drama 6.4 48 24661\n",
      "King Arthur: Legend of the Sword 2017 126 min Action| Adventure| Drama 6.8 41 131659\n"
     ]
    }
   ],
   "source": [
    "# we put the condition, if metascore value none then skip that movie name\n",
    "# Print the result set\n",
    "\n",
    "for item in containers:\n",
    "    if item.find('span', class_ ='metascore') is not None:\n",
    "        Title = item.h3.a.text.replace(',','')\n",
    "        Release_Yrs = item.find('span', class_ ='lister-item-year text-muted unbold').text.replace('(','').replace(')','')\n",
    "        Runtime = item.find('span', {'class' : 'runtime'}).text\n",
    "        Genres = item.find('span', {'class' : 'genre'}).text.replace('\\n', '').replace(',', '|').strip()\n",
    "        Rating = float(item.strong.text)\n",
    "        MetaScore = int(item.find('span', class_ ='metascore').text.strip())\n",
    "        Votes = int(item.find('span', {'name' : 'nv'}).text.replace(',', ''))\n",
    "        print(Title, Release_Yrs,Runtime, Genres,Rating, MetaScore, Votes)"
   ]
  },
  {
   "cell_type": "markdown",
   "metadata": {},
   "source": [
    "#### Write the result set into CSV file"
   ]
  },
  {
   "cell_type": "code",
   "execution_count": 22,
   "metadata": {},
   "outputs": [],
   "source": [
    "# Write the result set into a csv file\n",
    "Titles = []\n",
    "ReleaseYears = []\n",
    "Runtime = []\n",
    "Genres = []\n",
    "Ratings = []\n",
    "Metascores = []\n",
    "Votes = []\n",
    "filename = \"C:\\DataAnalysis\\Data\\webscrap\\MovieList.csv\"\n",
    "f= open(filename,'w', encoding=\"utf-8\")\n",
    "header = 'Title, Release_Yrs, Runtime, Genres, Rating, MetaScore,Votes \\n'\n",
    "f.write(header)\n",
    "for items in containers:\n",
    "    if items.find('span', class_ ='metascore') is not None:\n",
    "        Title = items.h3.a.text.replace(',','')\n",
    "        Titles.append(Title)\n",
    "        \n",
    "        Release_Year = items.find('span', class_ ='lister-item-year').text.replace('(','').replace(')','')\n",
    "        ReleaseYears.append(Release_Year)\n",
    "        \n",
    "        Duration = items.find('span', {'class' : 'runtime'}).text\n",
    "        Runtime.append(Duration)\n",
    "        \n",
    "        Genre = items.find('span', {'class' : 'genre'}).text.replace('\\n', '').replace(',', '|').strip()\n",
    "        Genres.append(Genre)\n",
    "        \n",
    "        Rating = items.strong.text\n",
    "        Ratings.append(float(Rating))\n",
    "        \n",
    "        MetaScore = items.find('span', class_ ='metascore').text.strip()\n",
    "        Metascores.append(MetaScore)\n",
    "        \n",
    "        Vote = items.find('span', {'name' : 'nv'}).text.replace(',', '')\n",
    "        Votes.append(Vote)\n",
    "        f.write(Title + \", \" + Release_Year + \", \" + Duration + \", \" + Genre + \", \" + Rating + \", \" + MetaScore + \",\" + Vote + \"\\n\")\n",
    "        #print(Titles + \", \" + ReleaseYears + \", \" + Runtime + \", \" + Genres + \", \" + Ratings + \", \" + Metascores + \",\" + Votes +)\n",
    "f.close()\n"
   ]
  },
  {
   "cell_type": "markdown",
   "metadata": {},
   "source": [
    "#### Let's display the data into tabular format"
   ]
  },
  {
   "cell_type": "code",
   "execution_count": 23,
   "metadata": {},
   "outputs": [
    {
     "data": {
      "text/plain": [
       "list"
      ]
     },
     "execution_count": 23,
     "metadata": {},
     "output_type": "execute_result"
    }
   ],
   "source": [
    "type(Titles)"
   ]
  },
  {
   "cell_type": "code",
   "execution_count": 24,
   "metadata": {},
   "outputs": [],
   "source": [
    "import pandas as pd\n",
    "import numpy as np"
   ]
  },
  {
   "cell_type": "code",
   "execution_count": 25,
   "metadata": {},
   "outputs": [],
   "source": [
    "IMDB_DF = pd.DataFrame({'Title' : Titles,\n",
    "                       'Year' : ReleaseYears,\n",
    "                       'Runtime': Runtime,\n",
    "                       'Genres' : Genres,\n",
    "                       'Rating': Ratings,\n",
    "                       'Metascore' : Metascores,\n",
    "                       'Votes' : Votes\n",
    "                       })\n"
   ]
  },
  {
   "cell_type": "code",
   "execution_count": 26,
   "metadata": {},
   "outputs": [
    {
     "data": {
      "text/html": [
       "<div>\n",
       "<style>\n",
       "    .dataframe thead tr:only-child th {\n",
       "        text-align: right;\n",
       "    }\n",
       "\n",
       "    .dataframe thead th {\n",
       "        text-align: left;\n",
       "    }\n",
       "\n",
       "    .dataframe tbody tr th {\n",
       "        vertical-align: top;\n",
       "    }\n",
       "</style>\n",
       "<table border=\"1\" class=\"dataframe\">\n",
       "  <thead>\n",
       "    <tr style=\"text-align: right;\">\n",
       "      <th></th>\n",
       "      <th>Genres</th>\n",
       "      <th>Metascore</th>\n",
       "      <th>Rating</th>\n",
       "      <th>Runtime</th>\n",
       "      <th>Title</th>\n",
       "      <th>Votes</th>\n",
       "      <th>Year</th>\n",
       "    </tr>\n",
       "  </thead>\n",
       "  <tbody>\n",
       "    <tr>\n",
       "      <th>0</th>\n",
       "      <td>Action| Adventure| Comedy</td>\n",
       "      <td>58</td>\n",
       "      <td>7.2</td>\n",
       "      <td>119 min</td>\n",
       "      <td>Jumanji: Welcome to the Jungle</td>\n",
       "      <td>43697</td>\n",
       "      <td>2017</td>\n",
       "    </tr>\n",
       "    <tr>\n",
       "      <th>1</th>\n",
       "      <td>Action| Adventure| Fantasy</td>\n",
       "      <td>85</td>\n",
       "      <td>7.5</td>\n",
       "      <td>152 min</td>\n",
       "      <td>Star Wars: Episode VIII - The Last Jedi</td>\n",
       "      <td>279678</td>\n",
       "      <td>2017</td>\n",
       "    </tr>\n",
       "    <tr>\n",
       "      <th>2</th>\n",
       "      <td>Biography| Drama| Musical</td>\n",
       "      <td>48</td>\n",
       "      <td>8.0</td>\n",
       "      <td>105 min</td>\n",
       "      <td>The Greatest Showman</td>\n",
       "      <td>37632</td>\n",
       "      <td>2017</td>\n",
       "    </tr>\n",
       "    <tr>\n",
       "      <th>3</th>\n",
       "      <td>Action| Crime| Fantasy</td>\n",
       "      <td>29</td>\n",
       "      <td>6.5</td>\n",
       "      <td>117 min</td>\n",
       "      <td>Bright</td>\n",
       "      <td>87927</td>\n",
       "      <td>I 2017</td>\n",
       "    </tr>\n",
       "    <tr>\n",
       "      <th>4</th>\n",
       "      <td>Drama| Mystery| Sci-Fi</td>\n",
       "      <td>81</td>\n",
       "      <td>8.3</td>\n",
       "      <td>164 min</td>\n",
       "      <td>Blade Runner 2049</td>\n",
       "      <td>200763</td>\n",
       "      <td>2017</td>\n",
       "    </tr>\n",
       "  </tbody>\n",
       "</table>\n",
       "</div>"
      ],
      "text/plain": [
       "                       Genres Metascore  Rating  Runtime  \\\n",
       "0   Action| Adventure| Comedy        58     7.2  119 min   \n",
       "1  Action| Adventure| Fantasy        85     7.5  152 min   \n",
       "2   Biography| Drama| Musical        48     8.0  105 min   \n",
       "3      Action| Crime| Fantasy        29     6.5  117 min   \n",
       "4      Drama| Mystery| Sci-Fi        81     8.3  164 min   \n",
       "\n",
       "                                     Title   Votes    Year  \n",
       "0           Jumanji: Welcome to the Jungle   43697    2017  \n",
       "1  Star Wars: Episode VIII - The Last Jedi  279678    2017  \n",
       "2                     The Greatest Showman   37632    2017  \n",
       "3                                   Bright   87927  I 2017  \n",
       "4                        Blade Runner 2049  200763    2017  "
      ]
     },
     "execution_count": 26,
     "metadata": {},
     "output_type": "execute_result"
    }
   ],
   "source": [
    "IMDB_DF.head()"
   ]
  },
  {
   "cell_type": "code",
   "execution_count": 27,
   "metadata": {},
   "outputs": [
    {
     "name": "stdout",
     "output_type": "stream",
     "text": [
      "<class 'pandas.core.frame.DataFrame'>\n",
      "RangeIndex: 34 entries, 0 to 33\n",
      "Data columns (total 7 columns):\n",
      "Genres       34 non-null object\n",
      "Metascore    34 non-null object\n",
      "Rating       34 non-null float64\n",
      "Runtime      34 non-null object\n",
      "Title        34 non-null object\n",
      "Votes        34 non-null object\n",
      "Year         34 non-null object\n",
      "dtypes: float64(1), object(6)\n",
      "memory usage: 1.1+ KB\n"
     ]
    }
   ],
   "source": [
    "IMDB_DF.info()"
   ]
  },
  {
   "cell_type": "markdown",
   "metadata": {},
   "source": [
    "#### From the URL pattern we understand 2 changable variables are 'release_year' and 'page'\n",
    "\n",
    "###### So If we change the dynamically then we can easily scarp IMDB data for a range of years"
   ]
  },
  {
   "cell_type": "code",
   "execution_count": 28,
   "metadata": {},
   "outputs": [],
   "source": [
    "year_urls = [str(yrs) for yrs in range(2010, 2017)]    # want to scrap for 2010 to 2017 data\n",
    "pages = [str(p) for p in range (1,5)]      # only interested for first 4 pages"
   ]
  },
  {
   "cell_type": "markdown",
   "metadata": {},
   "source": [
    "##### We control the loop by using sleep() function from python's time module\n",
    "##### we will use vary the amount of waiting time between requests by using randit() from random module"
   ]
  },
  {
   "cell_type": "markdown",
   "metadata": {},
   "source": [
    "##### Monitoring the loop, as its still going\n",
    "\n",
    "1. ***Frequency(speed) of request*** so make sure our program is not over loading the server.\n",
    "2. ***Number of Request*** So, we can halt the loop if number of expected request is exceeded.\n",
    "3. ***STatus code*** of our request, so we make sure server is sending back the proper response.\n",
    "\n",
    "- To get a frequency value we will divide the number of requests by elapsed time since the first request.\n",
    "    - set a starting time using the time() function from time module and assign the value to start_time variable.\n",
    "    - Assign 0 to the variable ***requests*** which we will use to count the number of requests.\n",
    "    - start a loop, and then with each iteration :\n",
    "        - simulate a request\n",
    "        - increment the number of requests by 1.\n",
    "        - pause the loop for time interval between 8 and 15 sec.\n",
    "        - calculate the elapsed time since the first request, and assign the value to elapsed_time variable.\n",
    "        - print the number of request and frequency.\n"
   ]
  },
  {
   "cell_type": "code",
   "execution_count": 31,
   "metadata": {},
   "outputs": [],
   "source": [
    "from random import randint\n",
    "from time import sleep\n",
    "from time import time"
   ]
  },
  {
   "cell_type": "code",
   "execution_count": 32,
   "metadata": {},
   "outputs": [
    {
     "name": "stdout",
     "output_type": "stream",
     "text": [
      "Request: 1; Frequency : 0.11110475658921463; requests/s\n",
      "Request: 2; Frequency : 0.1176403306895347; requests/s\n",
      "Request: 3; Frequency : 0.1071367294668144; requests/s\n",
      "Request: 4; Frequency : 0.09301793534799481; requests/s\n",
      "Request: 5; Frequency : 0.08620196580741236; requests/s\n"
     ]
    }
   ],
   "source": [
    "start_time = time()\n",
    "requests = 0\n",
    "\n",
    "for _ in range(5):\n",
    "    requests +=1\n",
    "    sleep(randint(8,15))\n",
    "    elapsed_time = time() - start_time\n",
    "    print('Request: {}; Frequency : {}; requests/s'.format(requests, requests/elapsed_time))"
   ]
  },
  {
   "cell_type": "markdown",
   "metadata": {},
   "source": [
    "#### To monitor a status code we will set a program to warn us if somthing wrong, A successful request indicated by status code 200\n",
    "#### we will use warn() from warnings module to throw a warning if status code is not 200."
   ]
  },
  {
   "cell_type": "code",
   "execution_count": 33,
   "metadata": {},
   "outputs": [
    {
     "name": "stderr",
     "output_type": "stream",
     "text": [
      "c:\\python36\\lib\\site-packages\\ipykernel_launcher.py:3: UserWarning: Simulation Error\n",
      "  This is separate from the ipykernel package so we can avoid doing imports until\n"
     ]
    }
   ],
   "source": [
    "from warnings import warn\n",
    "\n",
    "warn('Simulation Error')"
   ]
  },
  {
   "cell_type": "code",
   "execution_count": null,
   "metadata": {},
   "outputs": [],
   "source": []
  }
 ],
 "metadata": {
  "kernelspec": {
   "display_name": "Python 3",
   "language": "python",
   "name": "python3"
  },
  "language_info": {
   "codemirror_mode": {
    "name": "ipython",
    "version": 3
   },
   "file_extension": ".py",
   "mimetype": "text/x-python",
   "name": "python",
   "nbconvert_exporter": "python",
   "pygments_lexer": "ipython3",
   "version": "3.6.2"
  }
 },
 "nbformat": 4,
 "nbformat_minor": 2
}
