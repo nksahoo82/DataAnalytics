{
 "cells": [
  {
   "cell_type": "code",
   "execution_count": 164,
   "metadata": {},
   "outputs": [],
   "source": [
    "from urllib.request import urlopen as uReq\n",
    "from bs4 import BeautifulSoup as soup\n"
   ]
  },
  {
   "cell_type": "code",
   "execution_count": 165,
   "metadata": {},
   "outputs": [],
   "source": [
    "# URL which I want to scraping\n",
    "my_url = \"https://www.newegg.com/global/in/Product/ProductList.aspx?Submit=ENE&DEPA=0&Order=BESTMATCH&Description=graphics+card&ignorear=0&N=-1&isNodeId=1\""
   ]
  },
  {
   "cell_type": "code",
   "execution_count": 166,
   "metadata": {},
   "outputs": [],
   "source": [
    "# Opening the Connection, Grabbing the URL content\n",
    "uClient = uReq(my_url)"
   ]
  },
  {
   "cell_type": "code",
   "execution_count": 167,
   "metadata": {},
   "outputs": [],
   "source": [
    "# Read the the page contents and store raw html \n",
    "page_html = uClient.read()\n",
    "\n",
    "# Close the Connection\n",
    "uClient.close()"
   ]
  },
  {
   "cell_type": "code",
   "execution_count": 168,
   "metadata": {},
   "outputs": [],
   "source": [
    "# Parse the raw text into html by the help of beautifulsoup\n",
    "\n",
    "page_soup = soup(page_html, \"html.parser\")"
   ]
  },
  {
   "cell_type": "code",
   "execution_count": 169,
   "metadata": {},
   "outputs": [],
   "source": [
    "page_soup.body;"
   ]
  },
  {
   "cell_type": "code",
   "execution_count": 170,
   "metadata": {},
   "outputs": [],
   "source": [
    "# Use of Find all \n",
    "# Grab each product\n",
    "containers = page_soup.find_all('div', {\"class\" : \"item-container\"})"
   ]
  },
  {
   "cell_type": "code",
   "execution_count": 171,
   "metadata": {},
   "outputs": [
    {
     "data": {
      "text/plain": [
       "36"
      ]
     },
     "execution_count": 171,
     "metadata": {},
     "output_type": "execute_result"
    }
   ],
   "source": [
    "len(containers)"
   ]
  },
  {
   "cell_type": "code",
   "execution_count": 172,
   "metadata": {},
   "outputs": [],
   "source": [
    "# Details of first product\n",
    "containers[0];"
   ]
  },
  {
   "cell_type": "code",
   "execution_count": 122,
   "metadata": {},
   "outputs": [],
   "source": [
    "# Brand name of the 1st Product\n",
    "# container = containers[0]\n",
    "# container.div.div.a.img[\"title\"];\n",
    "\n",
    "# Product Title \n",
    "# container.find_all('a', {\"class\": \"item-title\"})[0].text\n",
    "\n",
    "# Item rating\n",
    "# Rating_container = container.find_all(\"a\", {\"class\": \"item-rating\"})\n",
    "\n",
    "# container.find_all(\"li\", {\"class\" :\"price-current\"})[0].text.strip()"
   ]
  },
  {
   "cell_type": "code",
   "execution_count": 187,
   "metadata": {},
   "outputs": [],
   "source": [
    "# Now we need to run for loop for to get all product \n",
    "# I want grab Brand Name, Product Title, Rating, # of Reviewers, Price\n",
    "filename = \"C:\\DataAnalysis\\Data\\webscrap\\graphicard.csv\"\n",
    "f= open(filename,'w')\n",
    "headers = \"Brand, Product_Title ,Price \\n\"\n",
    "f.write(headers)\n",
    "\n",
    "for container in containers:\n",
    "    Brand = container.div.div.a.img[\"title\"]\n",
    "    \n",
    "#    Title_container = container.find_all('a', {\"class\": \"item-title\"})\n",
    "#    Product_Title = Title_container[0].text\n",
    "    \n",
    "#    Price_container = container.find_all(\"li\", {\"class\" :\"price-current\"})\n",
    "#    Price = Price_container[1].text.strip()\n",
    "    \n",
    "#    f.write(Brand + \",\" + Product_Title.replace(\",\", \"__\") + \",\" + Price+ \"\\n\")\n",
    "f.close()"
   ]
  },
  {
   "cell_type": "code",
   "execution_count": 188,
   "metadata": {},
   "outputs": [
    {
     "data": {
      "text/plain": [
       "'GIGABYTE'"
      ]
     },
     "execution_count": 188,
     "metadata": {},
     "output_type": "execute_result"
    }
   ],
   "source": [
    "Brand"
   ]
  },
  {
   "cell_type": "code",
   "execution_count": 190,
   "metadata": {},
   "outputs": [],
   "source": [
    "Title_container;"
   ]
  },
  {
   "cell_type": "code",
   "execution_count": 189,
   "metadata": {},
   "outputs": [],
   "source": [
    "containers[3];"
   ]
  },
  {
   "cell_type": "code",
   "execution_count": null,
   "metadata": {},
   "outputs": [],
   "source": []
  }
 ],
 "metadata": {
  "kernelspec": {
   "display_name": "Python 3",
   "language": "python",
   "name": "python3"
  },
  "language_info": {
   "codemirror_mode": {
    "name": "ipython",
    "version": 3
   },
   "file_extension": ".py",
   "mimetype": "text/x-python",
   "name": "python",
   "nbconvert_exporter": "python",
   "pygments_lexer": "ipython3",
   "version": "3.6.2"
  }
 },
 "nbformat": 4,
 "nbformat_minor": 2
}
