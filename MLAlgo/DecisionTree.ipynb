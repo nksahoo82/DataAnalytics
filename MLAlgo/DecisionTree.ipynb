{
 "cells": [
  {
   "cell_type": "code",
   "execution_count": 1,
   "metadata": {},
   "outputs": [],
   "source": [
    "import pandas as pd\n",
    "import numpy as np\n",
    "import matplotlib.pyplot as plt\n",
    "%matplotlib inline\n",
    "import scipy as sp\n",
    "import os"
   ]
  },
  {
   "cell_type": "code",
   "execution_count": 2,
   "metadata": {},
   "outputs": [],
   "source": [
    "# Read the data from the local system\n",
    "data = pd.read_csv(\"C:\\DataAnalysis\\Data\\Mlern\\diabetes.csv\")\n",
    "data;"
   ]
  },
  {
   "cell_type": "code",
   "execution_count": 3,
   "metadata": {},
   "outputs": [],
   "source": [
    "# I want to use train_test_split evaluation method\n",
    "# So I conventionally import the scikit-learn train/test split package\n",
    "from sklearn.model_selection import train_test_split"
   ]
  },
  {
   "cell_type": "code",
   "execution_count": 4,
   "metadata": {},
   "outputs": [],
   "source": [
    "# Check the Dataset columns\n",
    "data.columns\n",
    "\n",
    "# separate the Features and Response from the dataset and lebel them\n",
    "\n",
    "X = data[['NoOfPregnancies', 'GlucoseLevel', 'BloodPressureLevel',\n",
    "       'SkinThickness', 'HoursInsulinIn', 'BMI', 'DiabetesPedigreeFunction',\n",
    "       'Age']]\n",
    "y = data['RiskDiabetes']\n"
   ]
  },
  {
   "cell_type": "code",
   "execution_count": 13,
   "metadata": {},
   "outputs": [],
   "source": [
    "# Just check the few records on top side\n",
    "X.head()\n",
    "y;"
   ]
  },
  {
   "cell_type": "code",
   "execution_count": 6,
   "metadata": {},
   "outputs": [
    {
     "data": {
      "text/plain": [
       "pandas.core.series.Series"
      ]
     },
     "execution_count": 6,
     "metadata": {},
     "output_type": "execute_result"
    }
   ],
   "source": [
    "# Now I will check shape and type of features and response \n",
    "\n",
    "# check shape\n",
    "X.shape\n",
    "y.shape\n",
    "\n",
    "# Check type\n",
    "type(X)\n",
    "type(y)"
   ]
  },
  {
   "cell_type": "code",
   "execution_count": 7,
   "metadata": {},
   "outputs": [],
   "source": [
    "# Now I will split the Dataset into training set and test set\n",
    "\n",
    "X_train, X_test, y_train, y_test = train_test_split(X,y, random_state=4, test_size=0.25)"
   ]
  },
  {
   "cell_type": "code",
   "execution_count": 8,
   "metadata": {},
   "outputs": [
    {
     "data": {
      "text/plain": [
       "(192,)"
      ]
     },
     "execution_count": 8,
     "metadata": {},
     "output_type": "execute_result"
    }
   ],
   "source": [
    "#Check the train/test splited data\n",
    "X_train.shape\n",
    "X_test.shape\n",
    "y_train.shape\n",
    "y_test.shape"
   ]
  },
  {
   "cell_type": "code",
   "execution_count": 9,
   "metadata": {},
   "outputs": [],
   "source": [
    "# Conventionally import the Decission tress package class\n",
    "from sklearn.tree import DecisionTreeClassifier"
   ]
  },
  {
   "cell_type": "code",
   "execution_count": 10,
   "metadata": {},
   "outputs": [
    {
     "data": {
      "text/plain": [
       "DecisionTreeClassifier(class_weight=None, criterion='gini', max_depth=None,\n",
       "            max_features=None, max_leaf_nodes=None,\n",
       "            min_impurity_decrease=0.0, min_impurity_split=None,\n",
       "            min_samples_leaf=1, min_samples_split=2,\n",
       "            min_weight_fraction_leaf=0.0, presort=False, random_state=None,\n",
       "            splitter='best')"
      ]
     },
     "execution_count": 10,
     "metadata": {},
     "output_type": "execute_result"
    }
   ],
   "source": [
    "#Create an instance of Model class\n",
    "dtree = DecisionTreeClassifier()\n",
    "\n",
    "# Fit the training data into model\n",
    "dtree.fit(X_train, y_train)\n"
   ]
  },
  {
   "cell_type": "code",
   "execution_count": 11,
   "metadata": {},
   "outputs": [],
   "source": [
    "y_est = dtree.predict(X_test)"
   ]
  },
  {
   "cell_type": "markdown",
   "metadata": {},
   "source": [
    "#### Check the Model Accuracy and Evaluation"
   ]
  },
  {
   "cell_type": "code",
   "execution_count": 14,
   "metadata": {},
   "outputs": [],
   "source": [
    "# To measure accuracy we import metrics from scikit-learn package\n",
    "\n",
    "from sklearn import metrics\n",
    "from pandas_ml import ConfusionMatrix\n",
    "labels = ['No','Yes']"
   ]
  },
  {
   "cell_type": "code",
   "execution_count": 15,
   "metadata": {},
   "outputs": [
    {
     "data": {
      "text/plain": [
       "0.71875"
      ]
     },
     "execution_count": 15,
     "metadata": {},
     "output_type": "execute_result"
    }
   ],
   "source": [
    "metrics.accuracy_score(y_test,y_est)"
   ]
  },
  {
   "cell_type": "code",
   "execution_count": 18,
   "metadata": {},
   "outputs": [],
   "source": [
    "cm = ConfusionMatrix(y_test, y_est)"
   ]
  },
  {
   "cell_type": "code",
   "execution_count": 19,
   "metadata": {},
   "outputs": [
    {
     "data": {
      "text/plain": [
       "Predicted  0.0  1.0  __all__\n",
       "Actual                      \n",
       "0.0         21   11       32\n",
       "1.0         12    5       17\n",
       "__all__     33   16       49"
      ]
     },
     "execution_count": 19,
     "metadata": {},
     "output_type": "execute_result"
    }
   ],
   "source": [
    "cm"
   ]
  },
  {
   "cell_type": "code",
   "execution_count": 23,
   "metadata": {},
   "outputs": [
    {
     "data": {
      "text/plain": [
       "<matplotlib.axes._subplots.AxesSubplot at 0x55bfe70>"
      ]
     },
     "execution_count": 23,
     "metadata": {},
     "output_type": "execute_result"
    },
    {
     "data": {
      "image/png": "[encoded data removed]",
      "text/plain": [
       "<matplotlib.figure.Figure at 0x55a8510>"
      ]
     },
     "metadata": {},
     "output_type": "display_data"
    }
   ],
   "source": [
    "cm.plot()\n"
   ]
  },
  {
   "cell_type": "code",
   "execution_count": 27,
   "metadata": {},
   "outputs": [
    {
     "name": "stdout",
     "output_type": "stream",
     "text": [
      "population: 49\n",
      "P: 17\n",
      "N: 32\n",
      "PositiveTest: 16\n",
      "NegativeTest: 33\n",
      "TP: 5\n",
      "TN: 21\n",
      "FP: 11\n",
      "FN: 12\n",
      "TPR: 0.294117647059\n",
      "TNR: 0.65625\n",
      "PPV: 0.3125\n",
      "NPV: 0.636363636364\n",
      "FPR: 0.34375\n",
      "FDR: 0.6875\n",
      "FNR: 0.705882352941\n",
      "ACC: 0.530612244898\n",
      "F1_score: 0.30303030303\n",
      "MCC: -0.050378745996\n",
      "informedness: -0.0496323529412\n",
      "markedness: -0.0511363636364\n",
      "prevalence: 0.34693877551\n",
      "LRP: 0.855614973262\n",
      "LRN: 1.0756302521\n",
      "DOR: 0.795454545455\n",
      "FOR: 0.363636363636\n"
     ]
    }
   ],
   "source": [
    "# Print Overall statistics\n",
    "\n",
    "cm.print_stats()"
   ]
  },
  {
   "cell_type": "markdown",
   "metadata": {},
   "source": [
    "#### 10 fold cross-validation evaluation"
   ]
  },
  {
   "cell_type": "code",
   "execution_count": 33,
   "metadata": {},
   "outputs": [],
   "source": [
    "# import cross_val_score from sklearn package\n",
    "from sklearn.model_selection import cross_val_score"
   ]
  },
  {
   "cell_type": "code",
   "execution_count": 41,
   "metadata": {},
   "outputs": [],
   "source": [
    "y_score = cross_val_score(dtree, X,y, cv=10, scoring='accuracy').mean()"
   ]
  },
  {
   "cell_type": "code",
   "execution_count": 42,
   "metadata": {},
   "outputs": [
    {
     "data": {
      "text/plain": [
       "0.70177717019822283"
      ]
     },
     "execution_count": 42,
     "metadata": {},
     "output_type": "execute_result"
    }
   ],
   "source": [
    "y_score"
   ]
  },
  {
   "cell_type": "markdown",
   "metadata": {},
   "source": [
    "#### Logistics Regression"
   ]
  },
  {
   "cell_type": "code",
   "execution_count": 49,
   "metadata": {},
   "outputs": [],
   "source": [
    "# import Logistics class\n",
    "from sklearn.linear_model import LogisticRegression"
   ]
  },
  {
   "cell_type": "code",
   "execution_count": 50,
   "metadata": {},
   "outputs": [],
   "source": [
    "lgR = LogisticRegression()\n",
    "\n",
    "lgR.fit(X_train,y_train)\n",
    "lgr_pred = lgR.predict(X_test)"
   ]
  },
  {
   "cell_type": "code",
   "execution_count": 51,
   "metadata": {},
   "outputs": [
    {
     "data": {
      "text/plain": [
       "0.8125"
      ]
     },
     "execution_count": 51,
     "metadata": {},
     "output_type": "execute_result"
    }
   ],
   "source": [
    "metrics.accuracy_score(y_test, lgr_pred)"
   ]
  },
  {
   "cell_type": "code",
   "execution_count": 52,
   "metadata": {},
   "outputs": [
    {
     "data": {
      "text/plain": [
       "Predicted  0.0  1.0  __all__\n",
       "Actual                      \n",
       "0.0         21   11       32\n",
       "1.0         12    5       17\n",
       "__all__     33   16       49"
      ]
     },
     "execution_count": 52,
     "metadata": {},
     "output_type": "execute_result"
    }
   ],
   "source": [
    "cm_lgR = ConfusionMatrix(y_test, lgr_pred)\n",
    "cm_lgR"
   ]
  },
  {
   "cell_type": "code",
   "execution_count": 53,
   "metadata": {},
   "outputs": [
    {
     "name": "stdout",
     "output_type": "stream",
     "text": [
      "population: 49\n",
      "P: 17\n",
      "N: 32\n",
      "PositiveTest: 16\n",
      "NegativeTest: 33\n",
      "TP: 5\n",
      "TN: 21\n",
      "FP: 11\n",
      "FN: 12\n",
      "TPR: 0.294117647059\n",
      "TNR: 0.65625\n",
      "PPV: 0.3125\n",
      "NPV: 0.636363636364\n",
      "FPR: 0.34375\n",
      "FDR: 0.6875\n",
      "FNR: 0.705882352941\n",
      "ACC: 0.530612244898\n",
      "F1_score: 0.30303030303\n",
      "MCC: -0.050378745996\n",
      "informedness: -0.0496323529412\n",
      "markedness: -0.0511363636364\n",
      "prevalence: 0.34693877551\n",
      "LRP: 0.855614973262\n",
      "LRN: 1.0756302521\n",
      "DOR: 0.795454545455\n",
      "FOR: 0.363636363636\n"
     ]
    }
   ],
   "source": [
    "cm_lgR.print_stats()"
   ]
  },
  {
   "cell_type": "code",
   "execution_count": null,
   "metadata": {},
   "outputs": [],
   "source": []
  }
 ],
 "metadata": {
  "kernelspec": {
   "display_name": "Python 3",
   "language": "python",
   "name": "python3"
  },
  "language_info": {
   "codemirror_mode": {
    "name": "ipython",
    "version": 3
   },
   "file_extension": ".py",
   "mimetype": "text/x-python",
   "name": "python",
   "nbconvert_exporter": "python",
   "pygments_lexer": "ipython3",
   "version": "3.6.2"
  }
 },
 "nbformat": 4,
 "nbformat_minor": 2
}
